%matplotlib inline
import sys
#sys.path.insert(1,r'G:\NewFits\Data\refnxtoolbox-master')
#sys.path.append('./../')
#import plottools, objective_processing
#from plottools import graph_plot, hist_plot
#from FreeformVFP import FreeformVFP
import matplotlib.pyplot as plt


import numpy as np
import os.path
import refnx, scipy
# the analysis module contains the curvefitting engine
from refnx.analysis import CurveFitter, Objective, Parameter, GlobalObjective, process_chain, Transform
# the reflect module contains functionality relevant to reflectometry
from refnx.reflect import SLD, ReflectModel, Structure, MixedReflectModel
# the ReflectDataset object will contain the data
from refnx.dataset import ReflectDataset
# version numbers used in this analysis
refnx.version.version, scipy.version.version
